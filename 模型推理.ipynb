{
 "cells": [
  {
   "cell_type": "code",
   "execution_count": 57,
   "id": "feb2059f",
   "metadata": {},
   "outputs": [],
   "source": [
    "import pandas as pd\n",
    "import numpy as np\n",
    "from sklearn.model_selection import train_test_split\n",
    "from sklearn.preprocessing import MinMaxScaler\n",
    "from sklearn.metrics import mean_squared_error, mean_absolute_error\n",
    "import torch\n",
    "import torch.nn as nn\n",
    "from torch.utils.data import DataLoader, TensorDataset\n",
    "import torch.optim as optim\n",
    "from torch.nn import TransformerEncoder, TransformerEncoderLayer\n",
    "import math\n",
    "from sklearn.metrics import mean_squared_error, mean_absolute_error"
   ]
  },
  {
   "cell_type": "code",
   "execution_count": 58,
   "id": "2db98d69",
   "metadata": {},
   "outputs": [],
   "source": [
    "# 加载和准备数据\n",
    "data = pd.read_csv('earthquake.csv')\n",
    "data['Date'] = pd.to_datetime(data['Date'])\n",
    "data['Time'] = pd.to_datetime(data['Time'], format='%H:%M:%S').dt.time\n",
    "data['Timestamp'] = data.apply(lambda row: pd.Timestamp(f\"{row['Date']} {row['Time']}\"), axis=1)\n",
    "data['Timestamp'] = data['Timestamp'].view('int64') // 10**9 #Unix时间戳\n",
    "features = data[['Timestamp', 'Longitude', 'Latitude']]\n",
    "targets = data[['Depth', 'Magnitude']]"
   ]
  },
  {
   "cell_type": "code",
   "execution_count": 59,
   "id": "2bf4a78e",
   "metadata": {},
   "outputs": [
    {
     "data": {
      "text/plain": "MinMaxScaler()",
      "text/html": "<style>#sk-container-id-2 {color: black;background-color: white;}#sk-container-id-2 pre{padding: 0;}#sk-container-id-2 div.sk-toggleable {background-color: white;}#sk-container-id-2 label.sk-toggleable__label {cursor: pointer;display: block;width: 100%;margin-bottom: 0;padding: 0.3em;box-sizing: border-box;text-align: center;}#sk-container-id-2 label.sk-toggleable__label-arrow:before {content: \"▸\";float: left;margin-right: 0.25em;color: #696969;}#sk-container-id-2 label.sk-toggleable__label-arrow:hover:before {color: black;}#sk-container-id-2 div.sk-estimator:hover label.sk-toggleable__label-arrow:before {color: black;}#sk-container-id-2 div.sk-toggleable__content {max-height: 0;max-width: 0;overflow: hidden;text-align: left;background-color: #f0f8ff;}#sk-container-id-2 div.sk-toggleable__content pre {margin: 0.2em;color: black;border-radius: 0.25em;background-color: #f0f8ff;}#sk-container-id-2 input.sk-toggleable__control:checked~div.sk-toggleable__content {max-height: 200px;max-width: 100%;overflow: auto;}#sk-container-id-2 input.sk-toggleable__control:checked~label.sk-toggleable__label-arrow:before {content: \"▾\";}#sk-container-id-2 div.sk-estimator input.sk-toggleable__control:checked~label.sk-toggleable__label {background-color: #d4ebff;}#sk-container-id-2 div.sk-label input.sk-toggleable__control:checked~label.sk-toggleable__label {background-color: #d4ebff;}#sk-container-id-2 input.sk-hidden--visually {border: 0;clip: rect(1px 1px 1px 1px);clip: rect(1px, 1px, 1px, 1px);height: 1px;margin: -1px;overflow: hidden;padding: 0;position: absolute;width: 1px;}#sk-container-id-2 div.sk-estimator {font-family: monospace;background-color: #f0f8ff;border: 1px dotted black;border-radius: 0.25em;box-sizing: border-box;margin-bottom: 0.5em;}#sk-container-id-2 div.sk-estimator:hover {background-color: #d4ebff;}#sk-container-id-2 div.sk-parallel-item::after {content: \"\";width: 100%;border-bottom: 1px solid gray;flex-grow: 1;}#sk-container-id-2 div.sk-label:hover label.sk-toggleable__label {background-color: #d4ebff;}#sk-container-id-2 div.sk-serial::before {content: \"\";position: absolute;border-left: 1px solid gray;box-sizing: border-box;top: 0;bottom: 0;left: 50%;z-index: 0;}#sk-container-id-2 div.sk-serial {display: flex;flex-direction: column;align-items: center;background-color: white;padding-right: 0.2em;padding-left: 0.2em;position: relative;}#sk-container-id-2 div.sk-item {position: relative;z-index: 1;}#sk-container-id-2 div.sk-parallel {display: flex;align-items: stretch;justify-content: center;background-color: white;position: relative;}#sk-container-id-2 div.sk-item::before, #sk-container-id-2 div.sk-parallel-item::before {content: \"\";position: absolute;border-left: 1px solid gray;box-sizing: border-box;top: 0;bottom: 0;left: 50%;z-index: -1;}#sk-container-id-2 div.sk-parallel-item {display: flex;flex-direction: column;z-index: 1;position: relative;background-color: white;}#sk-container-id-2 div.sk-parallel-item:first-child::after {align-self: flex-end;width: 50%;}#sk-container-id-2 div.sk-parallel-item:last-child::after {align-self: flex-start;width: 50%;}#sk-container-id-2 div.sk-parallel-item:only-child::after {width: 0;}#sk-container-id-2 div.sk-dashed-wrapped {border: 1px dashed gray;margin: 0 0.4em 0.5em 0.4em;box-sizing: border-box;padding-bottom: 0.4em;background-color: white;}#sk-container-id-2 div.sk-label label {font-family: monospace;font-weight: bold;display: inline-block;line-height: 1.2em;}#sk-container-id-2 div.sk-label-container {text-align: center;}#sk-container-id-2 div.sk-container {/* jupyter's `normalize.less` sets `[hidden] { display: none; }` but bootstrap.min.css set `[hidden] { display: none !important; }` so we also need the `!important` here to be able to override the default hidden behavior on the sphinx rendered scikit-learn.org. See: https://github.com/scikit-learn/scikit-learn/issues/21755 */display: inline-block !important;position: relative;}#sk-container-id-2 div.sk-text-repr-fallback {display: none;}</style><div id=\"sk-container-id-2\" class=\"sk-top-container\"><div class=\"sk-text-repr-fallback\"><pre>MinMaxScaler()</pre><b>In a Jupyter environment, please rerun this cell to show the HTML representation or trust the notebook. <br />On GitHub, the HTML representation is unable to render, please try loading this page with nbviewer.org.</b></div><div class=\"sk-container\" hidden><div class=\"sk-item\"><div class=\"sk-estimator sk-toggleable\"><input class=\"sk-toggleable__control sk-hidden--visually\" id=\"sk-estimator-id-2\" type=\"checkbox\" checked><label for=\"sk-estimator-id-2\" class=\"sk-toggleable__label sk-toggleable__label-arrow\">MinMaxScaler</label><div class=\"sk-toggleable__content\"><pre>MinMaxScaler()</pre></div></div></div></div></div>"
     },
     "execution_count": 59,
     "metadata": {},
     "output_type": "execute_result"
    }
   ],
   "source": [
    "X_np=features.values\n",
    "y_np=targets.values\n",
    "scaler_x = MinMaxScaler()\n",
    "scaler_y = MinMaxScaler()\n",
    "scaler_x.fit(X_np)\n",
    "scaler_y.fit(y_np)"
   ]
  },
  {
   "cell_type": "code",
   "execution_count": 60,
   "outputs": [],
   "source": [
    "# 使用相同的参数对训练数据和测试数据进行归一化\n",
    "X_normalized = scaler_x.transform(X_np)\n",
    "y_normalized = scaler_y.transform(y_np)"
   ],
   "metadata": {
    "collapsed": false,
    "pycharm": {
     "name": "#%%\n"
    }
   }
  },
  {
   "cell_type": "code",
   "execution_count": 62,
   "id": "11c5a2ab",
   "metadata": {},
   "outputs": [],
   "source": [
    "device = torch.device(\"cpu\")"
   ]
  },
  {
   "cell_type": "code",
   "execution_count": 63,
   "id": "c55c4397",
   "metadata": {},
   "outputs": [],
   "source": [
    "# 定义神经网络结构\n",
    "class ComplexNet(nn.Module):\n",
    "    def __init__(self):\n",
    "        super(ComplexNet, self).__init__()\n",
    "        self.fc1 = nn.Linear(3, 64)  # 输入层到第一个隐藏层\n",
    "        self.fc2 = nn.Linear(64, 128)  # 第一个隐藏层到第二个隐藏层\n",
    "        self.fc3 = nn.Linear(128, 64)  # 第二个隐藏层到第三个隐藏层\n",
    "        self.fc4 = nn.Linear(64, 2)  # 第三个隐藏层到输出层\n",
    "\n",
    "    def forward(self, x):\n",
    "        x = torch.relu(self.fc1(x))\n",
    "        x = torch.relu(self.fc2(x))\n",
    "        x = torch.relu(self.fc3(x))\n",
    "        x = self.fc4(x)\n",
    "        return x\n",
    "\n",
    "# 初始化网络\n",
    "model_BP = ComplexNet()\n",
    "model_BP.to(device)\n",
    "\n",
    "class ComplexLSTMModel(nn.Module):\n",
    "    def __init__(self, input_dim, hidden_dim, output_dim, num_layers, dropout_prob):\n",
    "        super(ComplexLSTMModel, self).__init__()\n",
    "        self.hidden_dim = hidden_dim\n",
    "        self.num_layers = num_layers\n",
    "        \n",
    "        # 定义LSTM层\n",
    "        self.lstm = nn.LSTM(input_dim, hidden_dim, num_layers, batch_first=True, dropout=dropout_prob)\n",
    "        \n",
    "        # 添加Dropout层\n",
    "        self.dropout = nn.Dropout(dropout_prob)\n",
    "        \n",
    "        # 定义额外的全连接层\n",
    "        self.fc1 = nn.Linear(hidden_dim, hidden_dim * 2)\n",
    "        self.bn1 = nn.BatchNorm1d(hidden_dim * 2)  # 批量归一化层\n",
    "        self.fc2 = nn.Linear(hidden_dim * 2, output_dim)\n",
    "        \n",
    "    def forward(self, x):\n",
    "        # 初始化隐藏状态和细胞状态\n",
    "        h0 = torch.zeros(self.num_layers, x.size(0), self.hidden_dim).to(x.device)\n",
    "        c0 = torch.zeros(self.num_layers, x.size(0), self.hidden_dim).to(x.device)\n",
    "        \n",
    "        # 前向传播LSTM\n",
    "        out, (hn, cn) = self.lstm(x, (h0, c0))\n",
    "        \n",
    "        # 只需要LSTM最后一层的输出\n",
    "        out = out[:, -1, :]\n",
    "        out = self.dropout(out)\n",
    "        \n",
    "        # 通过全连接层\n",
    "        out = self.fc1(out)\n",
    "        out = self.bn1(out)\n",
    "        out = torch.relu(out)\n",
    "        out = self.fc2(out)\n",
    "        return out\n",
    "\n",
    "# 初始化模型\n",
    "input_dim = 3 # 维度、经度、时间\n",
    "hidden_dim = 64\n",
    "num_layers = 2\n",
    "output_dim = 2 # 震深和震级\n",
    "dropout_prob = 0.5\n",
    "\n",
    "model_lstm = ComplexLSTMModel(input_dim, hidden_dim, output_dim, num_layers, dropout_prob)\n",
    "\n",
    "# 将模型移到GPU\n",
    "model_lstm = model_lstm.to(device)\n",
    "\n",
    "# 定义位置编码\n",
    "class PositionalEncoding(nn.Module):\n",
    "    def __init__(self, d_model, dropout=0.1, max_len=5000):\n",
    "        super(PositionalEncoding, self).__init__()\n",
    "        self.dropout = nn.Dropout(p=dropout)\n",
    "\n",
    "        position = torch.arange(max_len).unsqueeze(1)\n",
    "        div_term = torch.exp(torch.arange(0, d_model, 2) * -(math.log(10000.0) / d_model))\n",
    "        pe = torch.zeros(max_len, d_model)\n",
    "        pe[:, 0::2] = torch.sin(position * div_term)\n",
    "        pe[:, 1::2] = torch.cos(position * div_term)\n",
    "        pe = pe.unsqueeze(0).transpose(0, 1)\n",
    "        self.register_buffer('pe', pe)\n",
    "\n",
    "    def forward(self, x):\n",
    "        x = x + self.pe[:x.size(0), :]\n",
    "        return self.dropout(x)\n",
    "\n",
    "# 定义Transformer模型\n",
    "class TransformerModel(nn.Module):\n",
    "    def __init__(self, input_dim, seq_len, hidden_dim, output_dim, num_layers, dropout_prob):\n",
    "        super(TransformerModel, self).__init__()\n",
    "        self.hidden_dim = hidden_dim\n",
    "        self.input_dim = input_dim\n",
    "        self.pos_encoder = PositionalEncoding(hidden_dim, dropout_prob)\n",
    "\n",
    "        # 由于3是质数，我们可以选择将输入特征投影到更高的维度\n",
    "        self.embedding = nn.Linear(input_dim, hidden_dim)\n",
    "\n",
    "        encoder_layers = TransformerEncoderLayer(d_model=hidden_dim, nhead=8, \n",
    "                                                 dim_feedforward=hidden_dim, dropout=dropout_prob)\n",
    "        self.transformer_encoder = TransformerEncoder(encoder_layer=encoder_layers, num_layers=num_layers)\n",
    "\n",
    "        self.fc_out = nn.Linear(hidden_dim, output_dim)\n",
    "        self.dropout = nn.Dropout(dropout_prob)\n",
    "\n",
    "    def forward(self, x):\n",
    "        x = self.embedding(x)  # 将输入特征投影到更高的维度\n",
    "        x = self.dropout(x)\n",
    "        x = self.pos_encoder(x)\n",
    "        x = x.permute(1, 0, 2)  # Transformer expects (Seq Len, Batch, Features)\n",
    "        out = self.transformer_encoder(x)\n",
    "        out = self.fc_out(out[-1, :, :])  # 取最后一个时间步\n",
    "        return out\n",
    "\n",
    "# 初始化模型参数\n",
    "input_dim = 3  # 时间、经度、纬度\n",
    "seq_len = 20   # 序列长度\n",
    "hidden_dim = 64  # 隐藏层的维度\n",
    "num_layers = 2  # Transformer层的数量\n",
    "output_dim = 2  # 震深和震级\n",
    "dropout_prob = 0.5  # Dropout概率\n",
    "\n",
    "# 创建模型\n",
    "model_transformer = TransformerModel(input_dim, seq_len, hidden_dim, output_dim, num_layers, dropout_prob)\n",
    "\n",
    "# 将模型移到GPU\n",
    "model_transformer = model_transformer.to(device)"
   ]
  },
  {
   "cell_type": "code",
   "execution_count": 64,
   "id": "a1252bf1",
   "metadata": {},
   "outputs": [
    {
     "data": {
      "text/plain": "ComplexNet(\n  (fc1): Linear(in_features=3, out_features=64, bias=True)\n  (fc2): Linear(in_features=64, out_features=128, bias=True)\n  (fc3): Linear(in_features=128, out_features=64, bias=True)\n  (fc4): Linear(in_features=64, out_features=2, bias=True)\n)"
     },
     "execution_count": 64,
     "metadata": {},
     "output_type": "execute_result"
    }
   ],
   "source": [
    "# 加载最佳模型\n",
    "model_BP.load_state_dict(torch.load('lastloss_BP_model.pth'))\n",
    "model_BP.to(device)  # 确保模型在正确的设备上"
   ]
  },
  {
   "cell_type": "code",
   "execution_count": 65,
   "id": "2ac3c4a4",
   "metadata": {},
   "outputs": [
    {
     "data": {
      "text/plain": "ComplexLSTMModel(\n  (lstm): LSTM(3, 64, num_layers=2, batch_first=True, dropout=0.5)\n  (dropout): Dropout(p=0.5, inplace=False)\n  (fc1): Linear(in_features=64, out_features=128, bias=True)\n  (bn1): BatchNorm1d(128, eps=1e-05, momentum=0.1, affine=True, track_running_stats=True)\n  (fc2): Linear(in_features=128, out_features=2, bias=True)\n)"
     },
     "execution_count": 65,
     "metadata": {},
     "output_type": "execute_result"
    }
   ],
   "source": [
    "# 加载最佳模型\n",
    "model_lstm.load_state_dict(torch.load('best_lstm_model.pth'))\n",
    "model_lstm.to(device)  # 确保模型在正确的设备上"
   ]
  },
  {
   "cell_type": "code",
   "execution_count": 66,
   "id": "8b687a26",
   "metadata": {
    "scrolled": true
   },
   "outputs": [
    {
     "data": {
      "text/plain": "TransformerModel(\n  (pos_encoder): PositionalEncoding(\n    (dropout): Dropout(p=0.5, inplace=False)\n  )\n  (embedding): Linear(in_features=3, out_features=64, bias=True)\n  (transformer_encoder): TransformerEncoder(\n    (layers): ModuleList(\n      (0): TransformerEncoderLayer(\n        (self_attn): MultiheadAttention(\n          (out_proj): NonDynamicallyQuantizableLinear(in_features=64, out_features=64, bias=True)\n        )\n        (linear1): Linear(in_features=64, out_features=64, bias=True)\n        (dropout): Dropout(p=0.5, inplace=False)\n        (linear2): Linear(in_features=64, out_features=64, bias=True)\n        (norm1): LayerNorm((64,), eps=1e-05, elementwise_affine=True)\n        (norm2): LayerNorm((64,), eps=1e-05, elementwise_affine=True)\n        (dropout1): Dropout(p=0.5, inplace=False)\n        (dropout2): Dropout(p=0.5, inplace=False)\n      )\n      (1): TransformerEncoderLayer(\n        (self_attn): MultiheadAttention(\n          (out_proj): NonDynamicallyQuantizableLinear(in_features=64, out_features=64, bias=True)\n        )\n        (linear1): Linear(in_features=64, out_features=64, bias=True)\n        (dropout): Dropout(p=0.5, inplace=False)\n        (linear2): Linear(in_features=64, out_features=64, bias=True)\n        (norm1): LayerNorm((64,), eps=1e-05, elementwise_affine=True)\n        (norm2): LayerNorm((64,), eps=1e-05, elementwise_affine=True)\n        (dropout1): Dropout(p=0.5, inplace=False)\n        (dropout2): Dropout(p=0.5, inplace=False)\n      )\n    )\n  )\n  (fc_out): Linear(in_features=64, out_features=2, bias=True)\n  (dropout): Dropout(p=0.5, inplace=False)\n)"
     },
     "execution_count": 66,
     "metadata": {},
     "output_type": "execute_result"
    }
   ],
   "source": [
    "# 加载最佳模型\n",
    "model_transformer.load_state_dict(torch.load('best_transformer_model.pth'))\n",
    "model_transformer.to(device)  # 确保模型在正确的设备上"
   ]
  },
  {
   "cell_type": "code",
   "execution_count": 67,
   "id": "06359553",
   "metadata": {},
   "outputs": [],
   "source": [
    "def BP_forward(model, time, Latitude, Longitude):\n",
    "    '''\n",
    "    time:1965-01-02 13:44:18\n",
    "    \n",
    "    '''\n",
    "    # 切换到评估模式\n",
    "    model.eval()\n",
    "    time = pd.to_datetime(time)\n",
    "    time=time.timestamp() #Unix时间戳\n",
    "    features=np.array([[Latitude, Longitude, time]])\n",
    "    X = torch.tensor(features, dtype=torch.float32)\n",
    "    # 不计算梯度\n",
    "    with torch.no_grad():\n",
    "        X = X.to(device)\n",
    "        output = model(X)\n",
    "    return output\n"
   ]
  },
  {
   "cell_type": "code",
   "execution_count": 68,
   "id": "5ddf8a5a",
   "metadata": {},
   "outputs": [
    {
     "data": {
      "text/plain": "tensor([[ 1.3994, -1.1599]])"
     },
     "execution_count": 68,
     "metadata": {},
     "output_type": "execute_result"
    }
   ],
   "source": [
    "BP_forward(model_BP, '1983-01-02 13:44:18', 19.246, 145.616)"
   ]
  },
  {
   "cell_type": "code",
   "execution_count": 82,
   "outputs": [],
   "source": [
    "def lstm_transformer_forward(model, time, Latitude, Longitude):\n",
    "    model.eval() # 将模型设置为评估模式\n",
    "    predictions = []\n",
    "    time = pd.to_datetime(time)\n",
    "    time=time.timestamp() #Unix时间戳\n",
    "    features=np.array([[Latitude, Longitude, time]])\n",
    "    X = scaler_x.transform(features)\n",
    "    X = torch.tensor(X, dtype=torch.float32)\n",
    "    X = X.reshape(1,1,3)\n",
    "    with torch.no_grad(): # 不计算梯度\n",
    "        X = X.to(device)\n",
    "        outputs = model(X)\n",
    "        predictions.append(outputs.cpu().numpy())\n",
    "\n",
    "    # 反标准化以比较实际值\n",
    "\n",
    "    predictions = np.vstack(predictions)\n",
    "    predictions = scaler_y.inverse_transform(predictions)\n",
    "    return predictions"
   ],
   "metadata": {
    "collapsed": false,
    "pycharm": {
     "name": "#%%\n"
    }
   }
  },
  {
   "cell_type": "code",
   "execution_count": 83,
   "id": "52a6acfe",
   "metadata": {},
   "outputs": [
    {
     "data": {
      "text/plain": "array([[7.7678127, 5.450766 ]], dtype=float32)"
     },
     "execution_count": 83,
     "metadata": {},
     "output_type": "execute_result"
    }
   ],
   "source": [
    "lstm_transformer_forward(model_lstm, '1983-01-02 13:44:18', 19.246, 145.616)"
   ]
  },
  {
   "cell_type": "code",
   "execution_count": 84,
   "id": "1109e618",
   "metadata": {
    "pycharm": {
     "name": "#%%\n"
    }
   },
   "outputs": [
    {
     "data": {
      "text/plain": "array([[97.2359  ,  5.954626]], dtype=float32)"
     },
     "execution_count": 84,
     "metadata": {},
     "output_type": "execute_result"
    }
   ],
   "source": [
    "lstm_transformer_forward(model_transformer, '1983-01-02 13:44:18', 19.246, 145.616)"
   ]
  }
 ],
 "metadata": {
  "kernelspec": {
   "display_name": "Python 3 (ipykernel)",
   "language": "python",
   "name": "python3"
  },
  "language_info": {
   "codemirror_mode": {
    "name": "ipython",
    "version": 3
   },
   "file_extension": ".py",
   "mimetype": "text/x-python",
   "name": "python",
   "nbconvert_exporter": "python",
   "pygments_lexer": "ipython3",
   "version": "3.9.18"
  }
 },
 "nbformat": 4,
 "nbformat_minor": 5
}