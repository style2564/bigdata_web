{
 "cells": [
  {
   "cell_type": "code",
   "execution_count": 1,
   "id": "280de6af",
   "metadata": {},
   "outputs": [],
   "source": [
    "import torch\n",
    "import torch.nn as nn\n",
    "import torch.optim as optim\n",
    "from torch.utils.data import TensorDataset, DataLoader, random_split\n",
    "import pandas as pd\n",
    "import numpy as np\n",
    "from sklearn.model_selection import train_test_split\n",
    "from sklearn.preprocessing import MinMaxScaler\n",
    "from sklearn.metrics import mean_squared_error, mean_absolute_error\n",
    "from datetime import datetime"
   ]
  },
  {
   "cell_type": "code",
   "execution_count": 2,
   "id": "9d648921",
   "metadata": {},
   "outputs": [],
   "source": [
    "# 加载和准备数据\n",
    "data = pd.read_csv('earthquake.csv')\n",
    "data['Date'] = pd.to_datetime(data['Date'])\n",
    "data['Time'] = pd.to_datetime(data['Time'], format='%H:%M:%S').dt.time"
   ]
  },
  {
   "cell_type": "code",
   "execution_count": 3,
   "id": "a6e56817",
   "metadata": {},
   "outputs": [],
   "source": [
    "data['Timestamp'] = data.apply(lambda row: pd.Timestamp(f\"{row['Date']} {row['Time']}\"), axis=1)"
   ]
  },
  {
   "cell_type": "code",
   "execution_count": 4,
   "id": "8dc50ec5",
   "metadata": {},
   "outputs": [
    {
     "data": {
      "text/plain": [
       "0       1965-01-02 13:44:18\n",
       "1       1965-01-04 11:29:49\n",
       "2       1965-01-05 18:05:58\n",
       "3       1965-01-08 18:49:43\n",
       "4       1965-01-09 13:32:50\n",
       "                ...        \n",
       "23407   2016-12-28 08:22:12\n",
       "23408   2016-12-28 09:13:47\n",
       "23409   2016-12-28 12:38:51\n",
       "23410   2016-12-29 22:30:19\n",
       "23411   2016-12-30 20:08:28\n",
       "Name: Timestamp, Length: 23412, dtype: datetime64[ns]"
      ]
     },
     "execution_count": 4,
     "metadata": {},
     "output_type": "execute_result"
    }
   ],
   "source": [
    "data['Timestamp']"
   ]
  },
  {
   "cell_type": "code",
   "execution_count": 6,
   "id": "875dadbf",
   "metadata": {},
   "outputs": [],
   "source": [
    "data['Timestamp'] = data['Timestamp'].view('int64') // 10**9 #Unix时间戳\n",
    "features = data[['Latitude', 'Longitude', 'Timestamp']]\n",
    "targets = data[['Depth', 'Magnitude']]"
   ]
  },
  {
   "cell_type": "code",
   "execution_count": 7,
   "id": "0a6521f3",
   "metadata": {},
   "outputs": [
    {
     "data": {
      "text/plain": [
       "array([[ 1.92460000e+01,  1.45616000e+02, -1.57630542e+08],\n",
       "       [ 1.86300000e+00,  1.27352000e+02, -1.57465811e+08],\n",
       "       [-2.05790000e+01, -1.73972000e+02, -1.57355642e+08],\n",
       "       ...,\n",
       "       [ 3.69179000e+01,  1.40426200e+02,  1.48292873e+09],\n",
       "       [-9.02830000e+00,  1.18663900e+02,  1.48305062e+09],\n",
       "       [ 3.73973000e+01,  1.41410300e+02,  1.48312851e+09]])"
      ]
     },
     "execution_count": 7,
     "metadata": {},
     "output_type": "execute_result"
    }
   ],
   "source": [
    "features.values"
   ]
  },
  {
   "cell_type": "code",
   "execution_count": 6,
   "id": "d56145cb",
   "metadata": {},
   "outputs": [],
   "source": [
    "X = torch.tensor(features.values, dtype=torch.float32)\n",
    "Y = torch.tensor(targets.values, dtype=torch.float32)"
   ]
  },
  {
   "cell_type": "code",
   "execution_count": 7,
   "id": "ed37b59a",
   "metadata": {},
   "outputs": [],
   "source": [
    "dataset = TensorDataset(X, Y)\n",
    "dataloader = DataLoader(dataset, batch_size=32, shuffle=True)"
   ]
  },
  {
   "cell_type": "code",
   "execution_count": 8,
   "id": "d8f05f4b",
   "metadata": {},
   "outputs": [
    {
     "name": "stdout",
     "output_type": "stream",
     "text": [
      "X_test shape: torch.Size([4682, 3])\n",
      "Y_test shape: torch.Size([4682, 2])\n"
     ]
    }
   ],
   "source": [
    "# 计算分割尺寸\n",
    "test_size = int(len(dataset) * 0.2)  # 20%作为测试集\n",
    "train_size = len(dataset) - test_size  # 剩余作为训练集\n",
    "\n",
    "# 随机分割数据集\n",
    "train_dataset, test_dataset = random_split(dataset, [train_size, test_size])\n",
    "\n",
    "# 你可以将这些数据集进一步封装成DataLoader，便于批处理和迭代\n",
    "train_loader = DataLoader(train_dataset, batch_size=64, shuffle=True)\n",
    "test_loader = DataLoader(test_dataset, batch_size=64, shuffle=False)\n",
    "\n",
    "# 从test_dataset中提取X_test和Y_test\n",
    "# 注意：random_split返回的子集类型是Subset，我们需要通过.dataset属性访问原始数据\n",
    "X_test = torch.stack([data[0] for data in test_dataset])\n",
    "Y_test = torch.stack([data[1] for data in test_dataset])\n",
    "\n",
    "print(\"X_test shape:\", X_test.shape)  # 应该输出torch.Size([4682, 3])\n",
    "print(\"Y_test shape:\", Y_test.shape)  # 应该输出torch.Size([4682, 2])"
   ]
  },
  {
   "cell_type": "code",
   "execution_count": 9,
   "id": "6002639e",
   "metadata": {},
   "outputs": [
    {
     "name": "stdout",
     "output_type": "stream",
     "text": [
      "Training on GPU...\n"
     ]
    }
   ],
   "source": [
    "if torch.cuda.is_available():\n",
    "    device = torch.device(\"cuda:0\")  # 如果有多个GPU，可以更改索引从 0 到 1, 2, ...\n",
    "    print(\"Training on GPU...\")\n",
    "else:\n",
    "    device = torch.device(\"cpu\")\n",
    "    print(\"CUDA is not available. Training on CPU...\")"
   ]
  },
  {
   "cell_type": "code",
   "execution_count": 12,
   "id": "4a22c867",
   "metadata": {},
   "outputs": [],
   "source": [
    "# 定义神经网络结构\n",
    "class ComplexNet(nn.Module):\n",
    "    def __init__(self):\n",
    "        super(ComplexNet, self).__init__()\n",
    "        self.fc1 = nn.Linear(3, 64)  # 输入层到第一个隐藏层\n",
    "        self.fc2 = nn.Linear(64, 128)  # 第一个隐藏层到第二个隐藏层\n",
    "        self.fc3 = nn.Linear(128, 64)  # 第二个隐藏层到第三个隐藏层\n",
    "        self.fc4 = nn.Linear(64, 2)  # 第三个隐藏层到输出层\n",
    "\n",
    "    def forward(self, x):\n",
    "        x = torch.relu(self.fc1(x))\n",
    "        x = torch.relu(self.fc2(x))\n",
    "        x = torch.relu(self.fc3(x))\n",
    "        x = self.fc4(x)\n",
    "        return x\n",
    "\n",
    "# 初始化网络\n",
    "model = ComplexNet()\n",
    "model.to(device)\n",
    "criterion = nn.CrossEntropyLoss()\n",
    "optimizer = optim.Adam(model.parameters(), lr=0.001)  # 使用Adam优化器"
   ]
  },
  {
   "cell_type": "code",
   "execution_count": 13,
   "id": "312d9eb5",
   "metadata": {},
   "outputs": [
    {
     "name": "stdout",
     "output_type": "stream",
     "text": [
      "Epoch 1, Loss: 3115589.5\n",
      "Epoch 11, Loss: 4404.81982421875\n",
      "Epoch 21, Loss: 20.691078186035156\n",
      "Epoch 31, Loss: 20.409597396850586\n",
      "Epoch 41, Loss: 19.96933937072754\n",
      "Epoch 51, Loss: 19.895641326904297\n",
      "Epoch 61, Loss: 20.59037971496582\n",
      "Epoch 71, Loss: 17.9504337310791\n",
      "Epoch 81, Loss: 22.87740135192871\n",
      "Epoch 91, Loss: 17.872581481933594\n",
      "Epoch 101, Loss: 20.245941162109375\n",
      "Epoch 111, Loss: 19.472984313964844\n",
      "Epoch 121, Loss: 19.593257904052734\n",
      "Epoch 131, Loss: 19.17864227294922\n",
      "Epoch 141, Loss: 20.30057716369629\n",
      "Epoch 151, Loss: 23.06133460998535\n",
      "Epoch 161, Loss: 23.019851684570312\n",
      "Epoch 171, Loss: 23.12517738342285\n",
      "Epoch 181, Loss: 21.654699325561523\n",
      "Epoch 191, Loss: 21.454879760742188\n",
      "Epoch 200, Loss: 21.433610916137695\n"
     ]
    }
   ],
   "source": [
    "# 训练网络\n",
    "min_loss=10000\n",
    "epochs = 200\n",
    "for epoch in range(epochs):\n",
    "    for batch_X, batch_Y in train_loader:\n",
    "        batch_X, batch_Y = batch_X.to(device), batch_Y.to(device)  # 移动到GPU\n",
    "\n",
    "        optimizer.zero_grad()\n",
    "        predictions = model(batch_X)\n",
    "        loss = criterion(predictions, batch_Y)\n",
    "        loss.backward()\n",
    "        optimizer.step()\n",
    "    \n",
    "    if epoch % 10 == 0:\n",
    "        print(f'Epoch {epoch+1}, Loss: {loss.item()}')\n",
    "    if min_loss>loss.item():\n",
    "        torch.save(model.state_dict(), 'minloss_BP_model.pth')\n",
    "        min_loss=loss.item()\n",
    "predictions = predictions.cpu()\n",
    "print(f'Epoch {epoch+1}, Loss: {loss.item()}')\n",
    "# 保存模型\n",
    "torch.save(model.state_dict(), 'lastloss_BP_model.pth')"
   ]
  },
  {
   "cell_type": "code",
   "execution_count": 17,
   "id": "ae8914ff",
   "metadata": {},
   "outputs": [
    {
     "name": "stdout",
     "output_type": "stream",
     "text": [
      "BestLoss: 17.647693634033203\n"
     ]
    }
   ],
   "source": [
    "print(f'BestLoss: {min_loss}')"
   ]
  },
  {
   "cell_type": "code",
   "execution_count": 15,
   "id": "e8c7b2d0",
   "metadata": {},
   "outputs": [],
   "source": [
    "# 切换到评估模式\n",
    "model.eval()\n",
    "\n",
    "# 不计算梯度\n",
    "with torch.no_grad():\n",
    "    actuals = []\n",
    "    predictions = []\n",
    "    \n",
    "    for batch_X, batch_Y in test_loader:\n",
    "        batch_X, batch_Y = batch_X.to(device), batch_Y.to(device)\n",
    "        \n",
    "        # 生成预测并将其收集起来\n",
    "        output = model(batch_X)\n",
    "        predictions.extend(output.cpu().numpy())\n",
    "        actuals.extend(batch_Y.cpu().numpy())"
   ]
  },
  {
   "cell_type": "code",
   "execution_count": 19,
   "id": "e7555706",
   "metadata": {},
   "outputs": [
    {
     "name": "stdout",
     "output_type": "stream",
     "text": [
      "Root Mean Squared Error (RMSE): 101.29426574707031\n",
      "Mean Absolute Error (MAE): 38.674434661865234\n"
     ]
    }
   ],
   "source": [
    "# 计算RMSE\n",
    "rmse = np.sqrt(mean_squared_error(actuals, predictions))\n",
    "print(f'Root Mean Squared Error (RMSE): {rmse}')\n",
    "\n",
    "# 计算MAE\n",
    "mae = mean_absolute_error(actuals, predictions)\n",
    "print(f'Mean Absolute Error (MAE): {mae}')"
   ]
  },
  {
   "cell_type": "code",
   "execution_count": null,
   "id": "1bfc4684",
   "metadata": {},
   "outputs": [],
   "source": []
  }
 ],
 "metadata": {
  "kernelspec": {
   "display_name": "Python 3 (ipykernel)",
   "language": "python",
   "name": "python3"
  },
  "language_info": {
   "codemirror_mode": {
    "name": "ipython",
    "version": 3
   },
   "file_extension": ".py",
   "mimetype": "text/x-python",
   "name": "python",
   "nbconvert_exporter": "python",
   "pygments_lexer": "ipython3",
   "version": "3.9.18"
  }
 },
 "nbformat": 4,
 "nbformat_minor": 5
}
